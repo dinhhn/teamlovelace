{
 "cells": [
  {
   "cell_type": "markdown",
   "metadata": {},
   "source": [
    "https://oikolab.com/documentation"
   ]
  },
  {
   "cell_type": "code",
   "execution_count": 1,
   "metadata": {},
   "outputs": [],
   "source": [
    "import pandas as pd\n",
    "import json\n",
    "import requests\n",
    "import time\n",
    "import datetime"
   ]
  },
  {
   "cell_type": "code",
   "execution_count": 2,
   "metadata": {},
   "outputs": [],
   "source": [
    "# states from usa_merged_data\n",
    "usa_states = ['Wyoming', 'Wisconsin', 'West Virginia', 'Washington', 'Virginia',\n",
    "              'Vermont', 'Utah', 'Texas', 'Tennessee', 'South Dakota',\n",
    "              'South Carolina', 'Rhode Island', 'Pennsylvania', 'Oregon',\n",
    "              'Oklahoma', 'Ohio', 'North Dakota', 'North Carolina', 'New York',\n",
    "              'New Mexico', 'New Jersey', 'New Hampshire', 'Nevada', 'Nebraska',\n",
    "              'Montana', 'Missouri', 'Mississippi', 'Minnesota', 'Michigan',\n",
    "              'Massachusetts', 'Maryland', 'Maine', 'Louisiana', 'Kentucky',\n",
    "              'Kansas', 'Iowa', 'Indiana', 'Illinois', 'Idaho', 'Hawaii',\n",
    "              'Georgia', 'Florida', 'District of Columbia', 'Delaware',\n",
    "              'Connecticut', 'Colorado', 'California', 'Arkansas', 'Arizona',\n",
    "              'Alaska', 'Alabama']\n",
    "\n",
    "weather_usa_states = pd.DataFrame()\n",
    "\n",
    "today = datetime.datetime.today()\n",
    "yesterday = (today - datetime.timedelta(days=1)).strftime('%Y-%m-%d')\n",
    "\n",
    "i=1\n",
    "\n",
    "for state in usa_states:\n",
    "    \n",
    "    r = requests.get('https://api.oikolab.com/weather',\n",
    "                     params={'param': ['temperature', 'wind_speed'], \n",
    "                             'start': '2020-01-01T00:00:00',\n",
    "                             'end': yesterday+'T00:00:00',\n",
    "                             'location': state,\n",
    "                             'api-key': 'xxxxxxxxxxxxxxxxxxxxxxxxx'}\n",
    "                    )\n",
    "\n",
    "    if r.status_code == 200:\n",
    "        attributes = r.json()['attributes']\n",
    "        weather_data = json.loads(r.json()['data'])\n",
    "\n",
    "        df = pd.DataFrame(index = pd.to_datetime(weather_data['index'], unit='s'),\n",
    "                          data = weather_data['data'],\n",
    "                          columns = weather_data['columns']) \\\n",
    "               .reset_index() \\\n",
    "               .rename(columns={'index': 'date'})\n",
    "\n",
    "        df['date'] = df['date'].dt.floor('d')\n",
    "\n",
    "        weather_by_day = df.groupby('date').median().reset_index()\n",
    "        weather_by_day['state'] = state\n",
    "\n",
    "        weather_usa_states = pd.concat([weather_by_day, weather_usa_states])\n",
    "\n",
    "\n",
    "    else:\n",
    "        print(r.text)\n",
    "        \n",
    "    i +=1\n",
    "    \n",
    "    if ((i%5 == 0) & (i<52)):\n",
    "        time.sleep(61)\n",
    "        \n"
   ]
  },
  {
   "cell_type": "code",
   "execution_count": 3,
   "metadata": {},
   "outputs": [
    {
     "data": {
      "text/html": [
       "<div>\n",
       "<style scoped>\n",
       "    .dataframe tbody tr th:only-of-type {\n",
       "        vertical-align: middle;\n",
       "    }\n",
       "\n",
       "    .dataframe tbody tr th {\n",
       "        vertical-align: top;\n",
       "    }\n",
       "\n",
       "    .dataframe thead th {\n",
       "        text-align: right;\n",
       "    }\n",
       "</style>\n",
       "<table border=\"1\" class=\"dataframe\">\n",
       "  <thead>\n",
       "    <tr style=\"text-align: right;\">\n",
       "      <th></th>\n",
       "      <th>date</th>\n",
       "      <th>temperature (degC)</th>\n",
       "      <th>wind_speed (m/s)</th>\n",
       "      <th>state</th>\n",
       "    </tr>\n",
       "  </thead>\n",
       "  <tbody>\n",
       "    <tr>\n",
       "      <th>0</th>\n",
       "      <td>2020-01-01</td>\n",
       "      <td>9.555</td>\n",
       "      <td>1.860</td>\n",
       "      <td>Alabama</td>\n",
       "    </tr>\n",
       "    <tr>\n",
       "      <th>1</th>\n",
       "      <td>2020-01-02</td>\n",
       "      <td>12.385</td>\n",
       "      <td>4.855</td>\n",
       "      <td>Alabama</td>\n",
       "    </tr>\n",
       "    <tr>\n",
       "      <th>2</th>\n",
       "      <td>2020-01-03</td>\n",
       "      <td>17.030</td>\n",
       "      <td>2.165</td>\n",
       "      <td>Alabama</td>\n",
       "    </tr>\n",
       "    <tr>\n",
       "      <th>3</th>\n",
       "      <td>2020-01-04</td>\n",
       "      <td>12.450</td>\n",
       "      <td>4.600</td>\n",
       "      <td>Alabama</td>\n",
       "    </tr>\n",
       "    <tr>\n",
       "      <th>4</th>\n",
       "      <td>2020-01-05</td>\n",
       "      <td>6.480</td>\n",
       "      <td>1.945</td>\n",
       "      <td>Alabama</td>\n",
       "    </tr>\n",
       "  </tbody>\n",
       "</table>\n",
       "</div>"
      ],
      "text/plain": [
       "        date  temperature (degC)  wind_speed (m/s)    state\n",
       "0 2020-01-01               9.555             1.860  Alabama\n",
       "1 2020-01-02              12.385             4.855  Alabama\n",
       "2 2020-01-03              17.030             2.165  Alabama\n",
       "3 2020-01-04              12.450             4.600  Alabama\n",
       "4 2020-01-05               6.480             1.945  Alabama"
      ]
     },
     "execution_count": 3,
     "metadata": {},
     "output_type": "execute_result"
    }
   ],
   "source": [
    "weather_usa_states.head()"
   ]
  },
  {
   "cell_type": "code",
   "execution_count": 4,
   "metadata": {},
   "outputs": [
    {
     "data": {
      "text/plain": [
       "51"
      ]
     },
     "execution_count": 4,
     "metadata": {},
     "output_type": "execute_result"
    }
   ],
   "source": [
    "weather_usa_states['state'].nunique()"
   ]
  },
  {
   "cell_type": "code",
   "execution_count": 5,
   "metadata": {},
   "outputs": [
    {
     "data": {
      "text/plain": [
       "51"
      ]
     },
     "execution_count": 5,
     "metadata": {},
     "output_type": "execute_result"
    }
   ],
   "source": [
    "len(usa_states)"
   ]
  },
  {
   "cell_type": "code",
   "execution_count": 6,
   "metadata": {},
   "outputs": [
    {
     "data": {
      "text/plain": [
       "set()"
      ]
     },
     "execution_count": 6,
     "metadata": {},
     "output_type": "execute_result"
    }
   ],
   "source": [
    "set(usa_states) - set(weather_usa_states['state'])"
   ]
  },
  {
   "cell_type": "code",
   "execution_count": 10,
   "metadata": {},
   "outputs": [
    {
     "data": {
      "text/html": [
       "<div>\n",
       "<style scoped>\n",
       "    .dataframe tbody tr th:only-of-type {\n",
       "        vertical-align: middle;\n",
       "    }\n",
       "\n",
       "    .dataframe tbody tr th {\n",
       "        vertical-align: top;\n",
       "    }\n",
       "\n",
       "    .dataframe thead th {\n",
       "        text-align: right;\n",
       "    }\n",
       "</style>\n",
       "<table border=\"1\" class=\"dataframe\">\n",
       "  <thead>\n",
       "    <tr style=\"text-align: right;\">\n",
       "      <th></th>\n",
       "      <th>date</th>\n",
       "      <th>temperature_median_degC</th>\n",
       "      <th>wind_speed_median_m/s</th>\n",
       "      <th>state</th>\n",
       "    </tr>\n",
       "  </thead>\n",
       "  <tbody>\n",
       "    <tr>\n",
       "      <th>0</th>\n",
       "      <td>2020-01-01</td>\n",
       "      <td>9.555</td>\n",
       "      <td>1.860</td>\n",
       "      <td>Alabama</td>\n",
       "    </tr>\n",
       "    <tr>\n",
       "      <th>1</th>\n",
       "      <td>2020-01-02</td>\n",
       "      <td>12.385</td>\n",
       "      <td>4.855</td>\n",
       "      <td>Alabama</td>\n",
       "    </tr>\n",
       "    <tr>\n",
       "      <th>2</th>\n",
       "      <td>2020-01-03</td>\n",
       "      <td>17.030</td>\n",
       "      <td>2.165</td>\n",
       "      <td>Alabama</td>\n",
       "    </tr>\n",
       "    <tr>\n",
       "      <th>3</th>\n",
       "      <td>2020-01-04</td>\n",
       "      <td>12.450</td>\n",
       "      <td>4.600</td>\n",
       "      <td>Alabama</td>\n",
       "    </tr>\n",
       "    <tr>\n",
       "      <th>4</th>\n",
       "      <td>2020-01-05</td>\n",
       "      <td>6.480</td>\n",
       "      <td>1.945</td>\n",
       "      <td>Alabama</td>\n",
       "    </tr>\n",
       "  </tbody>\n",
       "</table>\n",
       "</div>"
      ],
      "text/plain": [
       "        date  temperature_median_degC  wind_speed_median_m/s    state\n",
       "0 2020-01-01                    9.555                  1.860  Alabama\n",
       "1 2020-01-02                   12.385                  4.855  Alabama\n",
       "2 2020-01-03                   17.030                  2.165  Alabama\n",
       "3 2020-01-04                   12.450                  4.600  Alabama\n",
       "4 2020-01-05                    6.480                  1.945  Alabama"
      ]
     },
     "execution_count": 10,
     "metadata": {},
     "output_type": "execute_result"
    }
   ],
   "source": [
    "weather_usa_states = weather_usa_states.rename(columns=\n",
    "                                               {'temperature (degC)': 'temperature_median_degC',\n",
    "                                                'wind_speed (m/s)': 'wind_speed_median_m/s'})\n",
    "\n",
    "weather_usa_states.head()"
   ]
  },
  {
   "cell_type": "code",
   "execution_count": 12,
   "metadata": {},
   "outputs": [
    {
     "data": {
      "text/html": [
       "<div>\n",
       "<style scoped>\n",
       "    .dataframe tbody tr th:only-of-type {\n",
       "        vertical-align: middle;\n",
       "    }\n",
       "\n",
       "    .dataframe tbody tr th {\n",
       "        vertical-align: top;\n",
       "    }\n",
       "\n",
       "    .dataframe thead th {\n",
       "        text-align: right;\n",
       "    }\n",
       "</style>\n",
       "<table border=\"1\" class=\"dataframe\">\n",
       "  <thead>\n",
       "    <tr style=\"text-align: right;\">\n",
       "      <th></th>\n",
       "      <th>date</th>\n",
       "      <th>temperature_median_degC</th>\n",
       "      <th>wind_speed_median_m/s</th>\n",
       "    </tr>\n",
       "    <tr>\n",
       "      <th>state</th>\n",
       "      <th></th>\n",
       "      <th></th>\n",
       "      <th></th>\n",
       "    </tr>\n",
       "  </thead>\n",
       "  <tbody>\n",
       "    <tr>\n",
       "      <th>Alabama</th>\n",
       "      <td>220</td>\n",
       "      <td>220</td>\n",
       "      <td>220</td>\n",
       "    </tr>\n",
       "    <tr>\n",
       "      <th>Alaska</th>\n",
       "      <td>220</td>\n",
       "      <td>220</td>\n",
       "      <td>220</td>\n",
       "    </tr>\n",
       "    <tr>\n",
       "      <th>Arizona</th>\n",
       "      <td>220</td>\n",
       "      <td>220</td>\n",
       "      <td>220</td>\n",
       "    </tr>\n",
       "    <tr>\n",
       "      <th>Arkansas</th>\n",
       "      <td>220</td>\n",
       "      <td>220</td>\n",
       "      <td>220</td>\n",
       "    </tr>\n",
       "    <tr>\n",
       "      <th>California</th>\n",
       "      <td>220</td>\n",
       "      <td>220</td>\n",
       "      <td>220</td>\n",
       "    </tr>\n",
       "  </tbody>\n",
       "</table>\n",
       "</div>"
      ],
      "text/plain": [
       "            date  temperature_median_degC  wind_speed_median_m/s\n",
       "state                                                           \n",
       "Alabama      220                      220                    220\n",
       "Alaska       220                      220                    220\n",
       "Arizona      220                      220                    220\n",
       "Arkansas     220                      220                    220\n",
       "California   220                      220                    220"
      ]
     },
     "execution_count": 12,
     "metadata": {},
     "output_type": "execute_result"
    }
   ],
   "source": [
    "weather_usa_states.groupby('state').count().head()"
   ]
  },
  {
   "cell_type": "code",
   "execution_count": 16,
   "metadata": {},
   "outputs": [
    {
     "data": {
      "text/plain": [
       "datetime.timedelta(219)"
      ]
     },
     "execution_count": 16,
     "metadata": {},
     "output_type": "execute_result"
    }
   ],
   "source": [
    "datetime.datetime.strptime(yesterday, '%Y-%m-%d') - datetime.datetime.strptime('2020-01-01', '%Y-%m-%d')"
   ]
  },
  {
   "cell_type": "code",
   "execution_count": 18,
   "metadata": {},
   "outputs": [],
   "source": [
    "weather_usa_states.to_csv('weather_usa_states.csv')"
   ]
  },
  {
   "cell_type": "markdown",
   "metadata": {},
   "source": [
    "# Merge weather and usa_merged_data datasets"
   ]
  },
  {
   "cell_type": "code",
   "execution_count": 24,
   "metadata": {},
   "outputs": [
    {
     "data": {
      "text/plain": [
       "8161"
      ]
     },
     "execution_count": 24,
     "metadata": {},
     "output_type": "execute_result"
    }
   ],
   "source": [
    "# merged data file in current directory\n",
    "usa_merged_data = pd.read_csv('usa_merged_data.csv')\n",
    "len(usa_merged_data)"
   ]
  },
  {
   "cell_type": "code",
   "execution_count": 30,
   "metadata": {},
   "outputs": [],
   "source": [
    "usa_data = usa_merged_data.merge(usa_merged_data, on=['date', 'state'])"
   ]
  },
  {
   "cell_type": "code",
   "execution_count": 31,
   "metadata": {},
   "outputs": [
    {
     "data": {
      "text/plain": [
       "8161"
      ]
     },
     "execution_count": 31,
     "metadata": {},
     "output_type": "execute_result"
    }
   ],
   "source": [
    "len(usa_data)"
   ]
  },
  {
   "cell_type": "code",
   "execution_count": 32,
   "metadata": {},
   "outputs": [],
   "source": [
    "usa_data.to_csv('usa_data.csv')"
   ]
  }
 ],
 "metadata": {
  "kernelspec": {
   "display_name": "Python 3",
   "language": "python",
   "name": "python3"
  },
  "language_info": {
   "codemirror_mode": {
    "name": "ipython",
    "version": 3
   },
   "file_extension": ".py",
   "mimetype": "text/x-python",
   "name": "python",
   "nbconvert_exporter": "python",
   "pygments_lexer": "ipython3",
   "version": "3.6.9"
  }
 },
 "nbformat": 4,
 "nbformat_minor": 2
}
