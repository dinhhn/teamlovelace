{
 "cells": [
  {
   "cell_type": "code",
   "execution_count": 1,
   "metadata": {},
   "outputs": [],
   "source": [
    "import pandas as pd\n",
    "import matplotlib.pyplot as plt\n",
    "import seaborn as sns\n",
    "\n",
    "\n",
    "plt.style.use('bmh')\n",
    "pd.set_option('display.max_columns', None)"
   ]
  },
  {
   "cell_type": "markdown",
   "metadata": {},
   "source": [
    "# 1 Getting the data"
   ]
  },
  {
   "cell_type": "code",
   "execution_count": 2,
   "metadata": {},
   "outputs": [
    {
     "data": {
      "text/html": [
       "<div>\n",
       "<style scoped>\n",
       "    .dataframe tbody tr th:only-of-type {\n",
       "        vertical-align: middle;\n",
       "    }\n",
       "\n",
       "    .dataframe tbody tr th {\n",
       "        vertical-align: top;\n",
       "    }\n",
       "\n",
       "    .dataframe thead th {\n",
       "        text-align: right;\n",
       "    }\n",
       "</style>\n",
       "<table border=\"1\" class=\"dataframe\">\n",
       "  <thead>\n",
       "    <tr style=\"text-align: right;\">\n",
       "      <th></th>\n",
       "      <th>date</th>\n",
       "      <th>region</th>\n",
       "      <th>mean</th>\n",
       "      <th>median</th>\n",
       "      <th>lower_80</th>\n",
       "      <th>upper_80</th>\n",
       "      <th>infections</th>\n",
       "      <th>test_adjusted_positive</th>\n",
       "      <th>test_adjusted_positive_raw</th>\n",
       "      <th>positive</th>\n",
       "      <th>tests</th>\n",
       "      <th>new_tests</th>\n",
       "      <th>new_cases</th>\n",
       "      <th>new_deaths</th>\n",
       "      <th>state_abbreviation_x</th>\n",
       "      <th>state</th>\n",
       "      <th>population</th>\n",
       "      <th>lat</th>\n",
       "      <th>long</th>\n",
       "      <th>cases</th>\n",
       "      <th>deaths</th>\n",
       "      <th>recovered</th>\n",
       "      <th>active</th>\n",
       "      <th>tested</th>\n",
       "      <th>hospitalized</th>\n",
       "      <th>discharged</th>\n",
       "      <th>icu</th>\n",
       "      <th>country_region</th>\n",
       "      <th>retail_and_recreation_percent_change_from_baseline</th>\n",
       "      <th>grocery_and_pharmacy_percent_change_from_baseline</th>\n",
       "      <th>parks_percent_change_from_baseline</th>\n",
       "      <th>transit_stations_percent_change_from_baseline</th>\n",
       "      <th>workplaces_percent_change_from_baseline</th>\n",
       "      <th>residential_percent_change_from_baseline</th>\n",
       "      <th>mobility_city_driving</th>\n",
       "      <th>mobility_city_transit</th>\n",
       "      <th>mobility_city_walking</th>\n",
       "      <th>mobility_county_driving</th>\n",
       "      <th>Level</th>\n",
       "      <th>State FIPS</th>\n",
       "      <th>State Postal Code</th>\n",
       "      <th>County FIPS</th>\n",
       "      <th>County Name</th>\n",
       "      <th>Population Staying at Home</th>\n",
       "      <th>Population Not Staying at Home</th>\n",
       "      <th>Number of Trips</th>\n",
       "      <th>Number of Trips &lt;1</th>\n",
       "      <th>Number of Trips 1-3</th>\n",
       "      <th>Number of Trips 3-5</th>\n",
       "      <th>Number of Trips 5-10</th>\n",
       "      <th>Number of Trips 10-25</th>\n",
       "      <th>Number of Trips 25-50</th>\n",
       "      <th>Number of Trips 50-100</th>\n",
       "      <th>Number of Trips 100-250</th>\n",
       "      <th>Number of Trips 250-500</th>\n",
       "      <th>Number of Trips &gt;=500</th>\n",
       "      <th>state_abbreviation_y</th>\n",
       "      <th>Type</th>\n",
       "      <th>temperature_median_degC</th>\n",
       "      <th>wind_speed_median_m/s</th>\n",
       "      <th>lockdown_status</th>\n",
       "    </tr>\n",
       "  </thead>\n",
       "  <tbody>\n",
       "    <tr>\n",
       "      <th>0</th>\n",
       "      <td>2020-01-19</td>\n",
       "      <td>WA</td>\n",
       "      <td>1.931525</td>\n",
       "      <td>1.905408</td>\n",
       "      <td>1.634723</td>\n",
       "      <td>2.261970</td>\n",
       "      <td>5.764968</td>\n",
       "      <td>0.0</td>\n",
       "      <td>0.0</td>\n",
       "      <td>0.0</td>\n",
       "      <td>0.0</td>\n",
       "      <td>NaN</td>\n",
       "      <td>NaN</td>\n",
       "      <td>NaN</td>\n",
       "      <td>WA</td>\n",
       "      <td>Washington</td>\n",
       "      <td>NaN</td>\n",
       "      <td>NaN</td>\n",
       "      <td>NaN</td>\n",
       "      <td>NaN</td>\n",
       "      <td>NaN</td>\n",
       "      <td>NaN</td>\n",
       "      <td>NaN</td>\n",
       "      <td>NaN</td>\n",
       "      <td>NaN</td>\n",
       "      <td>NaN</td>\n",
       "      <td>NaN</td>\n",
       "      <td>NaN</td>\n",
       "      <td>NaN</td>\n",
       "      <td>NaN</td>\n",
       "      <td>NaN</td>\n",
       "      <td>NaN</td>\n",
       "      <td>NaN</td>\n",
       "      <td>NaN</td>\n",
       "      <td>95.746667</td>\n",
       "      <td>71.433333</td>\n",
       "      <td>111.373333</td>\n",
       "      <td>113.266071</td>\n",
       "      <td>State</td>\n",
       "      <td>53.0</td>\n",
       "      <td>WA</td>\n",
       "      <td>NaN</td>\n",
       "      <td>NaN</td>\n",
       "      <td>1797196.0</td>\n",
       "      <td>5738395.0</td>\n",
       "      <td>24419892.0</td>\n",
       "      <td>6529628.0</td>\n",
       "      <td>6637426.0</td>\n",
       "      <td>3052716.0</td>\n",
       "      <td>3664835.0</td>\n",
       "      <td>3144645.0</td>\n",
       "      <td>913989.0</td>\n",
       "      <td>321907.0</td>\n",
       "      <td>109664.0</td>\n",
       "      <td>18372.0</td>\n",
       "      <td>26710.0</td>\n",
       "      <td>WA</td>\n",
       "      <td>NaN</td>\n",
       "      <td>-0.805</td>\n",
       "      <td>0.755</td>\n",
       "      <td>NaN</td>\n",
       "    </tr>\n",
       "    <tr>\n",
       "      <th>1</th>\n",
       "      <td>2020-01-20</td>\n",
       "      <td>WA</td>\n",
       "      <td>1.933600</td>\n",
       "      <td>1.912357</td>\n",
       "      <td>1.632484</td>\n",
       "      <td>2.231387</td>\n",
       "      <td>0.078372</td>\n",
       "      <td>0.0</td>\n",
       "      <td>0.0</td>\n",
       "      <td>0.0</td>\n",
       "      <td>0.0</td>\n",
       "      <td>NaN</td>\n",
       "      <td>NaN</td>\n",
       "      <td>NaN</td>\n",
       "      <td>WA</td>\n",
       "      <td>Washington</td>\n",
       "      <td>NaN</td>\n",
       "      <td>NaN</td>\n",
       "      <td>NaN</td>\n",
       "      <td>NaN</td>\n",
       "      <td>NaN</td>\n",
       "      <td>NaN</td>\n",
       "      <td>NaN</td>\n",
       "      <td>NaN</td>\n",
       "      <td>NaN</td>\n",
       "      <td>NaN</td>\n",
       "      <td>NaN</td>\n",
       "      <td>NaN</td>\n",
       "      <td>NaN</td>\n",
       "      <td>NaN</td>\n",
       "      <td>NaN</td>\n",
       "      <td>NaN</td>\n",
       "      <td>NaN</td>\n",
       "      <td>NaN</td>\n",
       "      <td>112.166667</td>\n",
       "      <td>87.926667</td>\n",
       "      <td>116.333333</td>\n",
       "      <td>126.034643</td>\n",
       "      <td>State</td>\n",
       "      <td>53.0</td>\n",
       "      <td>WA</td>\n",
       "      <td>NaN</td>\n",
       "      <td>NaN</td>\n",
       "      <td>1645184.0</td>\n",
       "      <td>5890407.0</td>\n",
       "      <td>25962814.0</td>\n",
       "      <td>6958421.0</td>\n",
       "      <td>6628004.0</td>\n",
       "      <td>3098265.0</td>\n",
       "      <td>3889578.0</td>\n",
       "      <td>3722470.0</td>\n",
       "      <td>1162325.0</td>\n",
       "      <td>343337.0</td>\n",
       "      <td>115189.0</td>\n",
       "      <td>19005.0</td>\n",
       "      <td>26220.0</td>\n",
       "      <td>WA</td>\n",
       "      <td>NaN</td>\n",
       "      <td>0.440</td>\n",
       "      <td>0.740</td>\n",
       "      <td>NaN</td>\n",
       "    </tr>\n",
       "    <tr>\n",
       "      <th>2</th>\n",
       "      <td>2020-01-21</td>\n",
       "      <td>WA</td>\n",
       "      <td>1.934562</td>\n",
       "      <td>1.912743</td>\n",
       "      <td>1.612060</td>\n",
       "      <td>2.201965</td>\n",
       "      <td>1.111411</td>\n",
       "      <td>0.0</td>\n",
       "      <td>0.0</td>\n",
       "      <td>0.0</td>\n",
       "      <td>0.0</td>\n",
       "      <td>NaN</td>\n",
       "      <td>NaN</td>\n",
       "      <td>NaN</td>\n",
       "      <td>WA</td>\n",
       "      <td>Washington</td>\n",
       "      <td>NaN</td>\n",
       "      <td>NaN</td>\n",
       "      <td>NaN</td>\n",
       "      <td>NaN</td>\n",
       "      <td>NaN</td>\n",
       "      <td>NaN</td>\n",
       "      <td>NaN</td>\n",
       "      <td>NaN</td>\n",
       "      <td>NaN</td>\n",
       "      <td>NaN</td>\n",
       "      <td>NaN</td>\n",
       "      <td>NaN</td>\n",
       "      <td>NaN</td>\n",
       "      <td>NaN</td>\n",
       "      <td>NaN</td>\n",
       "      <td>NaN</td>\n",
       "      <td>NaN</td>\n",
       "      <td>NaN</td>\n",
       "      <td>126.370000</td>\n",
       "      <td>100.000000</td>\n",
       "      <td>117.100000</td>\n",
       "      <td>116.204643</td>\n",
       "      <td>State</td>\n",
       "      <td>53.0</td>\n",
       "      <td>WA</td>\n",
       "      <td>NaN</td>\n",
       "      <td>NaN</td>\n",
       "      <td>1519454.0</td>\n",
       "      <td>6016137.0</td>\n",
       "      <td>27682451.0</td>\n",
       "      <td>7597807.0</td>\n",
       "      <td>7033903.0</td>\n",
       "      <td>3324702.0</td>\n",
       "      <td>4094765.0</td>\n",
       "      <td>4014737.0</td>\n",
       "      <td>1191838.0</td>\n",
       "      <td>290505.0</td>\n",
       "      <td>91211.0</td>\n",
       "      <td>15337.0</td>\n",
       "      <td>27646.0</td>\n",
       "      <td>WA</td>\n",
       "      <td>NaN</td>\n",
       "      <td>0.420</td>\n",
       "      <td>1.120</td>\n",
       "      <td>NaN</td>\n",
       "    </tr>\n",
       "    <tr>\n",
       "      <th>3</th>\n",
       "      <td>2020-01-22</td>\n",
       "      <td>WA</td>\n",
       "      <td>1.938330</td>\n",
       "      <td>1.918763</td>\n",
       "      <td>1.606901</td>\n",
       "      <td>2.175183</td>\n",
       "      <td>2.116840</td>\n",
       "      <td>0.0</td>\n",
       "      <td>0.0</td>\n",
       "      <td>0.0</td>\n",
       "      <td>0.0</td>\n",
       "      <td>0.0</td>\n",
       "      <td>0.0</td>\n",
       "      <td>0.0</td>\n",
       "      <td>WA</td>\n",
       "      <td>Washington</td>\n",
       "      <td>7614893.0</td>\n",
       "      <td>47.273</td>\n",
       "      <td>-120.8245</td>\n",
       "      <td>1.0</td>\n",
       "      <td>NaN</td>\n",
       "      <td>NaN</td>\n",
       "      <td>NaN</td>\n",
       "      <td>NaN</td>\n",
       "      <td>NaN</td>\n",
       "      <td>NaN</td>\n",
       "      <td>NaN</td>\n",
       "      <td>NaN</td>\n",
       "      <td>NaN</td>\n",
       "      <td>NaN</td>\n",
       "      <td>NaN</td>\n",
       "      <td>NaN</td>\n",
       "      <td>NaN</td>\n",
       "      <td>NaN</td>\n",
       "      <td>125.646667</td>\n",
       "      <td>100.336667</td>\n",
       "      <td>115.296667</td>\n",
       "      <td>115.653571</td>\n",
       "      <td>State</td>\n",
       "      <td>53.0</td>\n",
       "      <td>WA</td>\n",
       "      <td>NaN</td>\n",
       "      <td>NaN</td>\n",
       "      <td>1450486.0</td>\n",
       "      <td>6085105.0</td>\n",
       "      <td>28438392.0</td>\n",
       "      <td>7707646.0</td>\n",
       "      <td>7291940.0</td>\n",
       "      <td>3396966.0</td>\n",
       "      <td>4278922.0</td>\n",
       "      <td>4125562.0</td>\n",
       "      <td>1217566.0</td>\n",
       "      <td>291011.0</td>\n",
       "      <td>89945.0</td>\n",
       "      <td>15132.0</td>\n",
       "      <td>23702.0</td>\n",
       "      <td>WA</td>\n",
       "      <td>NaN</td>\n",
       "      <td>-0.640</td>\n",
       "      <td>1.025</td>\n",
       "      <td>NaN</td>\n",
       "    </tr>\n",
       "    <tr>\n",
       "      <th>4</th>\n",
       "      <td>2020-01-23</td>\n",
       "      <td>WA</td>\n",
       "      <td>1.944462</td>\n",
       "      <td>1.930613</td>\n",
       "      <td>1.634181</td>\n",
       "      <td>2.173330</td>\n",
       "      <td>2.347955</td>\n",
       "      <td>0.0</td>\n",
       "      <td>0.0</td>\n",
       "      <td>0.0</td>\n",
       "      <td>0.0</td>\n",
       "      <td>0.0</td>\n",
       "      <td>0.0</td>\n",
       "      <td>0.0</td>\n",
       "      <td>WA</td>\n",
       "      <td>Washington</td>\n",
       "      <td>7614893.0</td>\n",
       "      <td>47.273</td>\n",
       "      <td>-120.8245</td>\n",
       "      <td>1.0</td>\n",
       "      <td>NaN</td>\n",
       "      <td>NaN</td>\n",
       "      <td>NaN</td>\n",
       "      <td>NaN</td>\n",
       "      <td>NaN</td>\n",
       "      <td>NaN</td>\n",
       "      <td>NaN</td>\n",
       "      <td>NaN</td>\n",
       "      <td>NaN</td>\n",
       "      <td>NaN</td>\n",
       "      <td>NaN</td>\n",
       "      <td>NaN</td>\n",
       "      <td>NaN</td>\n",
       "      <td>NaN</td>\n",
       "      <td>129.306667</td>\n",
       "      <td>95.583333</td>\n",
       "      <td>116.166667</td>\n",
       "      <td>121.765357</td>\n",
       "      <td>State</td>\n",
       "      <td>53.0</td>\n",
       "      <td>WA</td>\n",
       "      <td>NaN</td>\n",
       "      <td>NaN</td>\n",
       "      <td>1510341.0</td>\n",
       "      <td>6025250.0</td>\n",
       "      <td>27841305.0</td>\n",
       "      <td>7600040.0</td>\n",
       "      <td>7149207.0</td>\n",
       "      <td>3331820.0</td>\n",
       "      <td>4122074.0</td>\n",
       "      <td>4012846.0</td>\n",
       "      <td>1193163.0</td>\n",
       "      <td>291217.0</td>\n",
       "      <td>98306.0</td>\n",
       "      <td>16494.0</td>\n",
       "      <td>26138.0</td>\n",
       "      <td>WA</td>\n",
       "      <td>NaN</td>\n",
       "      <td>1.130</td>\n",
       "      <td>0.480</td>\n",
       "      <td>NaN</td>\n",
       "    </tr>\n",
       "  </tbody>\n",
       "</table>\n",
       "</div>"
      ],
      "text/plain": [
       "         date region      mean    median  lower_80  upper_80  infections  \\\n",
       "0  2020-01-19     WA  1.931525  1.905408  1.634723  2.261970    5.764968   \n",
       "1  2020-01-20     WA  1.933600  1.912357  1.632484  2.231387    0.078372   \n",
       "2  2020-01-21     WA  1.934562  1.912743  1.612060  2.201965    1.111411   \n",
       "3  2020-01-22     WA  1.938330  1.918763  1.606901  2.175183    2.116840   \n",
       "4  2020-01-23     WA  1.944462  1.930613  1.634181  2.173330    2.347955   \n",
       "\n",
       "   test_adjusted_positive  test_adjusted_positive_raw  positive  tests  \\\n",
       "0                     0.0                         0.0       0.0    0.0   \n",
       "1                     0.0                         0.0       0.0    0.0   \n",
       "2                     0.0                         0.0       0.0    0.0   \n",
       "3                     0.0                         0.0       0.0    0.0   \n",
       "4                     0.0                         0.0       0.0    0.0   \n",
       "\n",
       "   new_tests  new_cases  new_deaths state_abbreviation_x       state  \\\n",
       "0        NaN        NaN         NaN                   WA  Washington   \n",
       "1        NaN        NaN         NaN                   WA  Washington   \n",
       "2        NaN        NaN         NaN                   WA  Washington   \n",
       "3        0.0        0.0         0.0                   WA  Washington   \n",
       "4        0.0        0.0         0.0                   WA  Washington   \n",
       "\n",
       "   population     lat      long  cases  deaths  recovered  active  tested  \\\n",
       "0         NaN     NaN       NaN    NaN     NaN        NaN     NaN     NaN   \n",
       "1         NaN     NaN       NaN    NaN     NaN        NaN     NaN     NaN   \n",
       "2         NaN     NaN       NaN    NaN     NaN        NaN     NaN     NaN   \n",
       "3   7614893.0  47.273 -120.8245    1.0     NaN        NaN     NaN     NaN   \n",
       "4   7614893.0  47.273 -120.8245    1.0     NaN        NaN     NaN     NaN   \n",
       "\n",
       "   hospitalized  discharged  icu country_region  \\\n",
       "0           NaN         NaN  NaN            NaN   \n",
       "1           NaN         NaN  NaN            NaN   \n",
       "2           NaN         NaN  NaN            NaN   \n",
       "3           NaN         NaN  NaN            NaN   \n",
       "4           NaN         NaN  NaN            NaN   \n",
       "\n",
       "   retail_and_recreation_percent_change_from_baseline  \\\n",
       "0                                                NaN    \n",
       "1                                                NaN    \n",
       "2                                                NaN    \n",
       "3                                                NaN    \n",
       "4                                                NaN    \n",
       "\n",
       "   grocery_and_pharmacy_percent_change_from_baseline  \\\n",
       "0                                                NaN   \n",
       "1                                                NaN   \n",
       "2                                                NaN   \n",
       "3                                                NaN   \n",
       "4                                                NaN   \n",
       "\n",
       "   parks_percent_change_from_baseline  \\\n",
       "0                                 NaN   \n",
       "1                                 NaN   \n",
       "2                                 NaN   \n",
       "3                                 NaN   \n",
       "4                                 NaN   \n",
       "\n",
       "   transit_stations_percent_change_from_baseline  \\\n",
       "0                                            NaN   \n",
       "1                                            NaN   \n",
       "2                                            NaN   \n",
       "3                                            NaN   \n",
       "4                                            NaN   \n",
       "\n",
       "   workplaces_percent_change_from_baseline  \\\n",
       "0                                      NaN   \n",
       "1                                      NaN   \n",
       "2                                      NaN   \n",
       "3                                      NaN   \n",
       "4                                      NaN   \n",
       "\n",
       "   residential_percent_change_from_baseline  mobility_city_driving  \\\n",
       "0                                       NaN              95.746667   \n",
       "1                                       NaN             112.166667   \n",
       "2                                       NaN             126.370000   \n",
       "3                                       NaN             125.646667   \n",
       "4                                       NaN             129.306667   \n",
       "\n",
       "   mobility_city_transit  mobility_city_walking  mobility_county_driving  \\\n",
       "0              71.433333             111.373333               113.266071   \n",
       "1              87.926667             116.333333               126.034643   \n",
       "2             100.000000             117.100000               116.204643   \n",
       "3             100.336667             115.296667               115.653571   \n",
       "4              95.583333             116.166667               121.765357   \n",
       "\n",
       "   Level  State FIPS State Postal Code  County FIPS  County Name  \\\n",
       "0  State        53.0                WA          NaN          NaN   \n",
       "1  State        53.0                WA          NaN          NaN   \n",
       "2  State        53.0                WA          NaN          NaN   \n",
       "3  State        53.0                WA          NaN          NaN   \n",
       "4  State        53.0                WA          NaN          NaN   \n",
       "\n",
       "   Population Staying at Home  Population Not Staying at Home  \\\n",
       "0                   1797196.0                       5738395.0   \n",
       "1                   1645184.0                       5890407.0   \n",
       "2                   1519454.0                       6016137.0   \n",
       "3                   1450486.0                       6085105.0   \n",
       "4                   1510341.0                       6025250.0   \n",
       "\n",
       "   Number of Trips  Number of Trips <1  Number of Trips 1-3  \\\n",
       "0       24419892.0           6529628.0            6637426.0   \n",
       "1       25962814.0           6958421.0            6628004.0   \n",
       "2       27682451.0           7597807.0            7033903.0   \n",
       "3       28438392.0           7707646.0            7291940.0   \n",
       "4       27841305.0           7600040.0            7149207.0   \n",
       "\n",
       "   Number of Trips 3-5  Number of Trips 5-10  Number of Trips 10-25  \\\n",
       "0            3052716.0             3664835.0              3144645.0   \n",
       "1            3098265.0             3889578.0              3722470.0   \n",
       "2            3324702.0             4094765.0              4014737.0   \n",
       "3            3396966.0             4278922.0              4125562.0   \n",
       "4            3331820.0             4122074.0              4012846.0   \n",
       "\n",
       "   Number of Trips 25-50  Number of Trips 50-100  Number of Trips 100-250  \\\n",
       "0               913989.0                321907.0                 109664.0   \n",
       "1              1162325.0                343337.0                 115189.0   \n",
       "2              1191838.0                290505.0                  91211.0   \n",
       "3              1217566.0                291011.0                  89945.0   \n",
       "4              1193163.0                291217.0                  98306.0   \n",
       "\n",
       "   Number of Trips 250-500  Number of Trips >=500 state_abbreviation_y Type  \\\n",
       "0                  18372.0                26710.0                   WA  NaN   \n",
       "1                  19005.0                26220.0                   WA  NaN   \n",
       "2                  15337.0                27646.0                   WA  NaN   \n",
       "3                  15132.0                23702.0                   WA  NaN   \n",
       "4                  16494.0                26138.0                   WA  NaN   \n",
       "\n",
       "   temperature_median_degC  wind_speed_median_m/s lockdown_status  \n",
       "0                   -0.805                  0.755             NaN  \n",
       "1                    0.440                  0.740             NaN  \n",
       "2                    0.420                  1.120             NaN  \n",
       "3                   -0.640                  1.025             NaN  \n",
       "4                    1.130                  0.480             NaN  "
      ]
     },
     "execution_count": 2,
     "metadata": {},
     "output_type": "execute_result"
    }
   ],
   "source": [
    "usa = pd.read_csv('usa_merged_data.csv')\n",
    "usa.head()"
   ]
  },
  {
   "cell_type": "markdown",
   "metadata": {},
   "source": [
    "# 2 Cleaning the dataset\n",
    "\n",
    "### Just some columns is being used to train the model, cleaning them!\n",
    "\n",
    "number of columns = 40\n",
    "\n",
    "cat_var = ['month', 'week', 'weekday', 'lockdown_status', 'state']\n",
    "<br>\n",
    "<br>\n",
    "\n",
    "These columns are using to create lag variables, that is used to train the model:\n",
    "\n",
    "target_vars_to_lag = [ 'mean', 'median', 'lower_80',\n",
    "                    'upper_80', 'infections', 'test_adjusted_positive',\n",
    "                    'test_adjusted_positive_raw', 'positive', 'tests', 'new_tests',\n",
    "                    'new_cases', 'new_deaths']\n",
    "\n",
    "<br>\n",
    "mobility_vars_to_lag = ['retail_and_recreation_percent_change_from_baseline',\n",
    "                        'grocery_and_pharmacy_percent_change_from_baseline',\n",
    "                        'parks_percent_change_from_baseline',\n",
    "                        'transit_stations_percent_change_from_baseline',\n",
    "                        'workplaces_percent_change_from_baseline',\n",
    "                        'residential_percent_change_from_baseline', 'mobility_city_driving',\n",
    "                        'mobility_city_transit', 'mobility_city_walking',\n",
    "                        'mobility_county_driving', 'Population Staying at Home', 'Population Not Staying at Home',\n",
    "                        'Number of Trips', 'Number of Trips <1', 'Number of Trips 1-3',\n",
    "                        'Number of Trips 3-5', 'Number of Trips 5-10', 'Number of Trips 10-25',\n",
    "                        'Number of Trips 25-50', 'Number of Trips 50-100',\n",
    "                        'Number of Trips 100-250', 'Number of Trips 250-500',\n",
    "                        'Number of Trips >=500']"
   ]
  },
  {
   "cell_type": "code",
   "execution_count": 3,
   "metadata": {},
   "outputs": [
    {
     "data": {
      "text/plain": [
       "(8161, 61)"
      ]
     },
     "execution_count": 3,
     "metadata": {},
     "output_type": "execute_result"
    }
   ],
   "source": [
    "usa.shape"
   ]
  },
  {
   "cell_type": "markdown",
   "metadata": {},
   "source": [
    "## 2.1 date variable"
   ]
  },
  {
   "cell_type": "code",
   "execution_count": 4,
   "metadata": {},
   "outputs": [],
   "source": [
    "usa['date'] = pd.to_datetime(usa.date)"
   ]
  },
  {
   "cell_type": "code",
   "execution_count": 5,
   "metadata": {},
   "outputs": [],
   "source": [
    "# feature engineering made by Fiona\n",
    "usa['month'] = usa['date'].apply(lambda x: x.month)\n",
    "usa['week'] = usa['date'].apply(lambda x: x.week)\n",
    "usa['weekday'] = usa['date'].apply(lambda x: x.weekday())"
   ]
  },
  {
   "cell_type": "markdown",
   "metadata": {},
   "source": [
    "## 2.2 Are there some missing values in categorical variables?"
   ]
  },
  {
   "cell_type": "code",
   "execution_count": 6,
   "metadata": {},
   "outputs": [],
   "source": [
    "cat_var = ['month', 'week', 'weekday', 'lockdown_status', 'state']"
   ]
  },
  {
   "cell_type": "code",
   "execution_count": 7,
   "metadata": {},
   "outputs": [
    {
     "data": {
      "text/plain": [
       "month                 0\n",
       "week                  0\n",
       "weekday               0\n",
       "lockdown_status    2601\n",
       "state                 0\n",
       "dtype: int64"
      ]
     },
     "execution_count": 7,
     "metadata": {},
     "output_type": "execute_result"
    }
   ],
   "source": [
    "usa[cat_var].isnull().sum()"
   ]
  },
  {
   "cell_type": "markdown",
   "metadata": {},
   "source": [
    "### 2.2.1 lockdown_status"
   ]
  },
  {
   "cell_type": "code",
   "execution_count": 8,
   "metadata": {},
   "outputs": [],
   "source": [
    "# Fiona already worked in lockdown_status variable"
   ]
  },
  {
   "cell_type": "markdown",
   "metadata": {},
   "source": [
    "## 2.3 Checking missing variables in target_vars_to_lag\n",
    "\n",
    "In this case, we decided to group by states and sort the values by the date (ascending order). Then, we could fill the missing values of *new_tests*, *new_cases*, and *new_deaths* with the next valid observation. <br>\n",
    "\n",
    "Why did we use bfill (instead of ffill)? Because the first observations start with NaN values. In this way, if we use ffill (fill the gap with last valid observation) these observations will not be filled (there is no previous valid value, it's NaN). On the other hand, the last observation is valid, so we can fill missing values using next observation."
   ]
  },
  {
   "cell_type": "code",
   "execution_count": 9,
   "metadata": {},
   "outputs": [],
   "source": [
    "target_vars_to_lag = ['mean', 'median', 'lower_80', 'upper_80', \n",
    "                      'infections', 'test_adjusted_positive', \n",
    "                      'test_adjusted_positive_raw', 'positive', \n",
    "                      'tests', 'new_tests', 'new_cases', 'new_deaths']"
   ]
  },
  {
   "cell_type": "code",
   "execution_count": 10,
   "metadata": {},
   "outputs": [
    {
     "data": {
      "text/plain": [
       "mean                            0\n",
       "median                          0\n",
       "lower_80                        0\n",
       "upper_80                        0\n",
       "infections                      0\n",
       "test_adjusted_positive          0\n",
       "test_adjusted_positive_raw      0\n",
       "positive                        0\n",
       "tests                           0\n",
       "new_tests                     344\n",
       "new_cases                     344\n",
       "new_deaths                    344\n",
       "dtype: int64"
      ]
     },
     "execution_count": 10,
     "metadata": {},
     "output_type": "execute_result"
    }
   ],
   "source": [
    "usa[target_vars_to_lag].isnull().sum()"
   ]
  },
  {
   "cell_type": "code",
   "execution_count": 11,
   "metadata": {},
   "outputs": [],
   "source": [
    "#usa[target_vars_to_lag].describe()"
   ]
  },
  {
   "cell_type": "markdown",
   "metadata": {},
   "source": [
    "missing values and negative numbers in new_tests, new_cases, and new_deaths."
   ]
  },
  {
   "cell_type": "code",
   "execution_count": 12,
   "metadata": {},
   "outputs": [],
   "source": [
    "usa_reorder = (usa.groupby('state')\n",
    "                  .apply(lambda x: x.sort_values('date', ascending=True))\n",
    "                  .reset_index(drop=True))\n",
    "\n",
    "#usa_reorder.head()"
   ]
  },
  {
   "cell_type": "markdown",
   "metadata": {},
   "source": [
    "let's fill the missing values with the next valid observation. (Ascending order by date) <br>\n",
    "bfill: use next valid observation to fill gap. <br>"
   ]
  },
  {
   "cell_type": "code",
   "execution_count": 13,
   "metadata": {},
   "outputs": [],
   "source": [
    "usa = usa_reorder.copy()"
   ]
  },
  {
   "cell_type": "code",
   "execution_count": 14,
   "metadata": {},
   "outputs": [],
   "source": [
    "def ffill_missing_values_groupby_state(column: str):\n",
    "    usa[column] = usa.groupby('state')[column] \\\n",
    "                     .transform(lambda v: v.ffill())\n",
    "    \n",
    "def bfill_missing_values_groupby_state(column: str):\n",
    "    usa[column] = usa.groupby('state')[column] \\\n",
    "                     .transform(lambda v: v.bfill())"
   ]
  },
  {
   "cell_type": "markdown",
   "metadata": {},
   "source": [
    "### new_tests, new_cases, new_deaths"
   ]
  },
  {
   "cell_type": "code",
   "execution_count": 15,
   "metadata": {},
   "outputs": [],
   "source": [
    "bfill_missing_values_groupby_state('new_tests')\n",
    "bfill_missing_values_groupby_state('new_cases')\n",
    "bfill_missing_values_groupby_state('new_deaths')"
   ]
  },
  {
   "cell_type": "markdown",
   "metadata": {},
   "source": [
    "### checking if all values were filled."
   ]
  },
  {
   "cell_type": "code",
   "execution_count": 16,
   "metadata": {
    "scrolled": true
   },
   "outputs": [
    {
     "data": {
      "text/plain": [
       "mean                          0\n",
       "median                        0\n",
       "lower_80                      0\n",
       "upper_80                      0\n",
       "infections                    0\n",
       "test_adjusted_positive        0\n",
       "test_adjusted_positive_raw    0\n",
       "positive                      0\n",
       "tests                         0\n",
       "new_tests                     0\n",
       "new_cases                     0\n",
       "new_deaths                    0\n",
       "dtype: int64"
      ]
     },
     "execution_count": 16,
     "metadata": {},
     "output_type": "execute_result"
    }
   ],
   "source": [
    "usa[target_vars_to_lag].isnull().sum()"
   ]
  },
  {
   "cell_type": "markdown",
   "metadata": {},
   "source": [
    "## 2.4 Checking missing values in mobility_vars_to_lag"
   ]
  },
  {
   "cell_type": "code",
   "execution_count": 17,
   "metadata": {},
   "outputs": [],
   "source": [
    "mobility_vars_to_lag = ['retail_and_recreation_percent_change_from_baseline', \n",
    "                        'grocery_and_pharmacy_percent_change_from_baseline', \n",
    "                        'parks_percent_change_from_baseline', \n",
    "                        'transit_stations_percent_change_from_baseline', \n",
    "                        'workplaces_percent_change_from_baseline', \n",
    "                        'residential_percent_change_from_baseline', \n",
    "                        'mobility_city_driving', 'mobility_city_transit', \n",
    "                        'mobility_city_walking', 'mobility_county_driving', \n",
    "                        'Population Staying at Home', 'Population Not Staying at Home', \n",
    "                        'Number of Trips', 'Number of Trips >=500']"
   ]
  },
  {
   "cell_type": "code",
   "execution_count": 18,
   "metadata": {},
   "outputs": [
    {
     "data": {
      "text/plain": [
       "retail_and_recreation_percent_change_from_baseline     537\n",
       "grocery_and_pharmacy_percent_change_from_baseline      537\n",
       "parks_percent_change_from_baseline                     588\n",
       "transit_stations_percent_change_from_baseline          537\n",
       "workplaces_percent_change_from_baseline                537\n",
       "residential_percent_change_from_baseline               537\n",
       "mobility_city_driving                                 2118\n",
       "mobility_city_transit                                 2897\n",
       "mobility_city_walking                                 2118\n",
       "mobility_county_driving                                260\n",
       "Population Staying at Home                             510\n",
       "Population Not Staying at Home                         510\n",
       "Number of Trips                                        510\n",
       "Number of Trips >=500                                  510\n",
       "dtype: int64"
      ]
     },
     "execution_count": 18,
     "metadata": {},
     "output_type": "execute_result"
    }
   ],
   "source": [
    "usa[mobility_vars_to_lag].isnull().sum()"
   ]
  },
  {
   "cell_type": "code",
   "execution_count": 19,
   "metadata": {
    "scrolled": true
   },
   "outputs": [],
   "source": [
    "#usa.head()"
   ]
  },
  {
   "cell_type": "code",
   "execution_count": 20,
   "metadata": {},
   "outputs": [
    {
     "data": {
      "text/plain": [
       "retail_and_recreation_percent_change_from_baseline     1\n",
       "grocery_and_pharmacy_percent_change_from_baseline      1\n",
       "parks_percent_change_from_baseline                     1\n",
       "transit_stations_percent_change_from_baseline          1\n",
       "workplaces_percent_change_from_baseline                1\n",
       "residential_percent_change_from_baseline               1\n",
       "mobility_city_driving                                 13\n",
       "mobility_city_transit                                 18\n",
       "mobility_city_walking                                 13\n",
       "mobility_county_driving                                1\n",
       "Population Staying at Home                             0\n",
       "Population Not Staying at Home                         0\n",
       "Number of Trips                                        0\n",
       "Number of Trips >=500                                  0\n",
       "dtype: int64"
      ]
     },
     "execution_count": 20,
     "metadata": {},
     "output_type": "execute_result"
    }
   ],
   "source": [
    "first_obs_by_state_date = usa.groupby('state')[['date']].min().reset_index()\n",
    "\n",
    "usa.merge(first_obs_by_state_date, on=['state', 'date']) \\\n",
    "   [mobility_vars_to_lag] \\\n",
    "   .isnull() \\\n",
    "   .sum()"
   ]
  },
  {
   "cell_type": "markdown",
   "metadata": {},
   "source": [
    "As we have less missing values in the first observations than last ones. Let's fill it with ffill (fill the gap with last valid observation)."
   ]
  },
  {
   "cell_type": "markdown",
   "metadata": {},
   "source": [
    "### retail_and_recreation_percent_change_from_baseline, grocery_and_pharmacy_percent_change_from_baseline, parks_percent_change_from_baseline,  transit_stations_percent_change_from_baseline, workplaces_percent_change_from_baseline, residential_percent_change_from_baseline, mobility_city_driving, mobility_city_transit, mobility_city_walking, mobility_county_driving, Population Staying at Home, Population Not Staying at Home, Number of Trips, Number of Trips >=500     "
   ]
  },
  {
   "cell_type": "code",
   "execution_count": 21,
   "metadata": {},
   "outputs": [],
   "source": [
    "ffill_missing_values_groupby_state('retail_and_recreation_percent_change_from_baseline')\n",
    "ffill_missing_values_groupby_state('grocery_and_pharmacy_percent_change_from_baseline')\n",
    "ffill_missing_values_groupby_state('parks_percent_change_from_baseline')\n",
    "ffill_missing_values_groupby_state('transit_stations_percent_change_from_baseline')\n",
    "ffill_missing_values_groupby_state('workplaces_percent_change_from_baseline')\n",
    "ffill_missing_values_groupby_state('residential_percent_change_from_baseline')\n",
    "ffill_missing_values_groupby_state('mobility_city_driving')\n",
    "ffill_missing_values_groupby_state('mobility_city_transit')\n",
    "ffill_missing_values_groupby_state('mobility_city_walking')\n",
    "ffill_missing_values_groupby_state('mobility_county_driving')\n",
    "ffill_missing_values_groupby_state('Population Staying at Home')\n",
    "ffill_missing_values_groupby_state('Population Not Staying at Home')\n",
    "ffill_missing_values_groupby_state('Number of Trips')\n",
    "ffill_missing_values_groupby_state('Number of Trips >=500')"
   ]
  },
  {
   "cell_type": "markdown",
   "metadata": {},
   "source": [
    "### checking if all values were filled."
   ]
  },
  {
   "cell_type": "code",
   "execution_count": 22,
   "metadata": {},
   "outputs": [
    {
     "data": {
      "text/plain": [
       "retail_and_recreation_percent_change_from_baseline      27\n",
       "grocery_and_pharmacy_percent_change_from_baseline       27\n",
       "parks_percent_change_from_baseline                      27\n",
       "transit_stations_percent_change_from_baseline           27\n",
       "workplaces_percent_change_from_baseline                 27\n",
       "residential_percent_change_from_baseline                27\n",
       "mobility_city_driving                                 2042\n",
       "mobility_city_transit                                 2831\n",
       "mobility_city_walking                                 2042\n",
       "mobility_county_driving                                160\n",
       "Population Staying at Home                               0\n",
       "Population Not Staying at Home                           0\n",
       "Number of Trips                                          0\n",
       "Number of Trips >=500                                    0\n",
       "dtype: int64"
      ]
     },
     "execution_count": 22,
     "metadata": {},
     "output_type": "execute_result"
    }
   ],
   "source": [
    "usa[mobility_vars_to_lag].isnull().sum()"
   ]
  },
  {
   "cell_type": "markdown",
   "metadata": {},
   "source": [
    "# 3 to_csv"
   ]
  },
  {
   "cell_type": "code",
   "execution_count": 23,
   "metadata": {},
   "outputs": [],
   "source": [
    "usa.to_csv('usa_cleaning.csv')"
   ]
  }
 ],
 "metadata": {
  "kernelspec": {
   "display_name": "Python 3",
   "language": "python",
   "name": "python3"
  },
  "language_info": {
   "codemirror_mode": {
    "name": "ipython",
    "version": 3
   },
   "file_extension": ".py",
   "mimetype": "text/x-python",
   "name": "python",
   "nbconvert_exporter": "python",
   "pygments_lexer": "ipython3",
   "version": "3.6.9"
  }
 },
 "nbformat": 4,
 "nbformat_minor": 2
}
